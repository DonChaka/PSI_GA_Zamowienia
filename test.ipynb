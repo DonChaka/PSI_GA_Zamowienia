{
 "cells": [
  {
   "cell_type": "code",
   "execution_count": 1,
   "metadata": {
    "collapsed": true
   },
   "outputs": [],
   "source": [
    "import numpy as np\n",
    "import struct\n"
   ]
  },
  {
   "cell_type": "code",
   "execution_count": 2,
   "outputs": [],
   "source": [
    "def float_to_bin(num):\n",
    "    return bin(struct.unpack('!I', struct.pack('!f', num))[0])[2:].zfill(32)\n",
    "\n",
    "\n",
    "def bin_to_float(binary):\n",
    "    return struct.unpack('!f', struct.pack('!I', int(binary, 2)))[0]"
   ],
   "metadata": {
    "collapsed": false,
    "pycharm": {
     "name": "#%%\n"
    }
   }
  },
  {
   "cell_type": "code",
   "execution_count": 3,
   "outputs": [
    {
     "name": "stdout",
     "output_type": "stream",
     "text": [
      "<class 'int'>\n",
      "<class 'slice'>\n"
     ]
    }
   ],
   "source": [
    "class ExtendableList(list):\n",
    "    def __setitem__(self, key, value):\n",
    "        print(type(key))\n",
    "        if isinstance(key, slice):\n",
    "            if self.__len__() < key.start+1:\n",
    "                self.extend([None]*(key.start+1-self.__len__()))\n",
    "            if self.__len__() < key.stop+1:\n",
    "                self.extend([None]*(key.stop-self.__len__()))\n",
    "        else:\n",
    "            while self.__len__() < key+1:\n",
    "                self.extend([None]*(key+1-self.__len__()))\n",
    "        super().__setitem__(key, value)\n",
    "\n",
    "test = ExtendableList()\n",
    "test[0] = 1\n",
    "test[1:2] = [3]"
   ],
   "metadata": {
    "collapsed": false,
    "pycharm": {
     "name": "#%%\n"
    }
   }
  },
  {
   "cell_type": "code",
   "execution_count": 6,
   "outputs": [],
   "source": [
    "test = [0,1,2,3,4,5]\n"
   ],
   "metadata": {
    "collapsed": false,
    "pycharm": {
     "name": "#%%\n"
    }
   }
  },
  {
   "cell_type": "code",
   "execution_count": 7,
   "outputs": [
    {
     "data": {
      "text/plain": "[1]"
     },
     "execution_count": 7,
     "metadata": {},
     "output_type": "execute_result"
    }
   ],
   "source": [
    "test[1:2]"
   ],
   "metadata": {
    "collapsed": false,
    "pycharm": {
     "name": "#%%\n"
    }
   }
  },
  {
   "cell_type": "code",
   "execution_count": 5,
   "outputs": [],
   "source": [
    "class Task:\n",
    "    def __init__(self, resource_list: np.ndarray, costs_list: np.ndarray):\n",
    "        if len(resource_list) != len(costs_list):\n",
    "            raise Exception('Resources list and costs list must be the same length')\n",
    "        self.resource_list = resource_list\n",
    "        self.costs_list = costs_list\n",
    "        self.total_cost = np.sum(costs_list)\n",
    "        self.total_steps = len(self.costs_list)\n",
    "\n",
    "        self.step = 0\n",
    "        self.last_step_finished = 0\n",
    "        self.next_idle_time = 0\n",
    "\n",
    "    def validate_args(self, res: int, t: int):\n",
    "        if t <= self.next_idle_time:\n",
    "            raise Exception(\n",
    "                f'Last step is not done yet. Passed time is {t}, and current process ends at time={self.next_idle_time}')\n",
    "\n",
    "        if res != self.resource_list[self.step]:\n",
    "            raise Exception(\n",
    "                f'Wrong type of resource. Passed resource is {res} and next needed resource is {self.resource_list[self.step]}')\n",
    "\n",
    "    def get_next_resource(self, res: int, t: int):\n",
    "        self.validate_args(res, t)\n",
    "\n",
    "        return self.resource_list[self.step]\n",
    "\n",
    "    def get_value_state(self, res: int, t: int):\n",
    "        self.validate_args(res, t)\n",
    "\n",
    "        return self.total_cost, self.total_steps-self.step, self.costs_list[self.step], t - self.next_idle_time\n",
    "\n",
    "    def execute_next_step(self, res, t):\n",
    "        self.validate_args(res, t)\n",
    "\n",
    "        self.next_idle_time += self.costs_list[self.step]\n",
    "        self.step += 1\n",
    "        return self.resource_list[self.step], self.costs_list[self.step]"
   ],
   "metadata": {
    "collapsed": false,
    "pycharm": {
     "name": "#%%\n"
    }
   }
  },
  {
   "cell_type": "code",
   "execution_count": 5,
   "outputs": [],
   "source": [],
   "metadata": {
    "collapsed": false,
    "pycharm": {
     "name": "#%%\n"
    }
   }
  }
 ],
 "metadata": {
  "kernelspec": {
   "display_name": "Python 3",
   "language": "python",
   "name": "python3"
  },
  "language_info": {
   "codemirror_mode": {
    "name": "ipython",
    "version": 2
   },
   "file_extension": ".py",
   "mimetype": "text/x-python",
   "name": "python",
   "nbconvert_exporter": "python",
   "pygments_lexer": "ipython2",
   "version": "2.7.6"
  }
 },
 "nbformat": 4,
 "nbformat_minor": 0
}