{
 "cells": [
  {
   "cell_type": "code",
   "execution_count": 1,
   "outputs": [],
   "source": [
    "import copy\n",
    "from typing import Callable\n",
    "import numpy as np\n",
    "import struct\n",
    "from random import random, uniform\n",
    "from time import time\n",
    "from joblib import Parallel, delayed\n"
   ],
   "metadata": {
    "collapsed": false,
    "pycharm": {
     "name": "#%%\n"
    }
   }
  },
  {
   "cell_type": "code",
   "execution_count": 2,
   "outputs": [],
   "source": [
    "population_size = 100\n",
    "crossover_probability = 0.8\n",
    "mutation_probability = 0.35\n",
    "epochs = 100"
   ],
   "metadata": {
    "collapsed": false,
    "pycharm": {
     "name": "#%%\n"
    }
   }
  },
  {
   "cell_type": "code",
   "execution_count": 3,
   "outputs": [],
   "source": [
    "def float_to_bin(num):\n",
    "    return bin(struct.unpack('!I', struct.pack('!f', num))[0])[2:].zfill(32)\n",
    "\n",
    "\n",
    "def bin_to_float(binary):\n",
    "    return struct.unpack('!f', struct.pack('!I', int(binary, 2)))[0]\n",
    "\n",
    "\n",
    "def inv_chr(string: str, position: int) -> str:\n",
    "    if int(string[position]) == 1:\n",
    "        string = string[:position] + '0' + string[position + 1:]\n",
    "    else:\n",
    "        string = string[:position] + '1' + string[position + 1:]\n",
    "    return string\n",
    "\n"
   ],
   "metadata": {
    "collapsed": false,
    "pycharm": {
     "name": "#%%\n"
    }
   }
  },
  {
   "cell_type": "code",
   "execution_count": 4,
   "outputs": [],
   "source": [
    "class ExtendableList(list):\n",
    "    def __setitem__(self, key, value):\n",
    "        if isinstance(key, slice):\n",
    "            if self.__len__() < key.start + 1:\n",
    "                self.extend([None] * (key.start + 1 - self.__len__()))\n",
    "            if self.__len__() < key.stop + 1:\n",
    "                self.extend([None] * (key.stop - self.__len__()))\n",
    "        else:\n",
    "            while self.__len__() < key + 1:\n",
    "                self.extend([None] * (key + 1 - self.__len__()))\n",
    "        super().__setitem__(key, value)\n"
   ],
   "metadata": {
    "collapsed": false,
    "pycharm": {
     "name": "#%%\n"
    }
   }
  },
  {
   "cell_type": "code",
   "execution_count": 5,
   "metadata": {
    "collapsed": true,
    "pycharm": {
     "name": "#%%\n"
    }
   },
   "outputs": [],
   "source": [
    "class ManufacturingTask:\n",
    "    id = 1\n",
    "\n",
    "    def __init__(self, resource_list: np.ndarray, costs_list: np.ndarray):\n",
    "        if len(resource_list) != len(costs_list):\n",
    "            raise Exception('Resources list and costs list must be the same length')\n",
    "        self.resource_list = resource_list\n",
    "        self.costs_list = costs_list\n",
    "        self.total_cost = np.sum(costs_list)\n",
    "        self.total_steps = len(self.costs_list)\n",
    "        self.is_finished = False\n",
    "\n",
    "        self.step = 0\n",
    "        self.last_step_finished = 0\n",
    "        self.next_idle_time = 0\n",
    "        self.id = ManufacturingTask.id\n",
    "        ManufacturingTask.id += 1\n",
    "\n",
    "    def validate_args(self, res: int, t: int):\n",
    "        if t < self.next_idle_time:\n",
    "            raise Exception(\n",
    "                f'Last step is not done yet. Passed time is {t}, and current process ends at time={self.next_idle_time}')\n",
    "\n",
    "        if res != self.resource_list[self.step]:\n",
    "            raise Exception(\n",
    "                f'Wrong type of resource. Passed resource is {res} and next needed resource is {self.resource_list[self.step]}')\n",
    "\n",
    "    def get_next_resource(self, res: int, t: int):\n",
    "        self.validate_args(res, t)\n",
    "\n",
    "        return self.resource_list[self.step]\n",
    "\n",
    "    def get_value_state(self, res: int, t: int):\n",
    "        self.validate_args(res, t)\n",
    "\n",
    "        return np.array(\n",
    "            [self.total_cost, self.total_steps - self.step, self.costs_list[self.step], t - self.next_idle_time, np.count_nonzero(self.resource_list[self.step:] == res)])\n",
    "\n",
    "    def execute_next_step(self, res: int, t: int):\n",
    "        self.validate_args(res, t)\n",
    "\n",
    "        self.next_idle_time = t + self.costs_list[self.step]\n",
    "        self.step += 1\n",
    "        if self.step >= self.total_steps:\n",
    "            self.is_finished = True\n",
    "        return self.costs_list[self.step-1]\n",
    "\n",
    "    def is_ready(self, res: int, t: int) -> bool:\n",
    "        if self.is_finished:\n",
    "            return False\n",
    "        return self.next_idle_time <= t and self.resource_list[self.step] == res\n"
   ]
  },
  {
   "cell_type": "code",
   "execution_count": 6,
   "outputs": [],
   "source": [
    "def priority_function(x: np.ndarray, coef: np.ndarray) -> int:\n",
    "    return x @ coef.T\n"
   ],
   "metadata": {
    "collapsed": false,
    "pycharm": {
     "name": "#%%\n"
    }
   }
  },
  {
   "cell_type": "code",
   "execution_count": 7,
   "outputs": [],
   "source": [
    "def create_manufacturing_queues(tasks: list, coef: np.ndarray) -> list:\n",
    "    if len(tasks) == 0:\n",
    "        raise Exception('There are no tasks')\n",
    "\n",
    "    resources_needed = np.unique(np.concatenate([task.resource_list for task in tasks]))\n",
    "    resources_queue_list = [ExtendableList() for _ in range(resources_needed[-1]+1)]\n",
    "    tasks_left = copy.deepcopy(tasks)\n",
    "    t = 0\n",
    "    while len(tasks_left):\n",
    "        for resource in resources_needed:\n",
    "            if len(resources_queue_list[resource]) > t:\n",
    "                continue\n",
    "\n",
    "            tasks_ready = [task for task in tasks_left if task.is_ready(resource, t)]\n",
    "            if not len(tasks_ready):\n",
    "                continue\n",
    "\n",
    "            priorities = [priority_function(task.get_value_state(resource, t), coef) for task in tasks_ready]\n",
    "            chosen_task: ManufacturingTask = tasks_ready[np.argmax(priorities)]\n",
    "            execution_time = chosen_task.execute_next_step(resource, t)\n",
    "            resources_queue_list[resource][t:t + execution_time] = [chosen_task.id for _ in range(0, execution_time)]\n",
    "            if chosen_task.is_finished:\n",
    "                tasks_left.remove(chosen_task)\n",
    "        t += 1\n",
    "\n",
    "    return resources_queue_list\n",
    "\n"
   ],
   "metadata": {
    "collapsed": false,
    "pycharm": {
     "name": "#%%\n"
    }
   }
  },
  {
   "cell_type": "code",
   "execution_count": 8,
   "outputs": [],
   "source": [
    "def get_cost(coefficients: np.ndarray, tasks: list) -> int:\n",
    "    return np.max([len(q) for q in create_manufacturing_queues(tasks, coefficients)])\n",
    "\n",
    "\n",
    "def generate_genotype(n_features: int) -> str:\n",
    "    return ''.join([np.random.choice(['0', '1']) for _ in range(n_features * 32)])"
   ],
   "metadata": {
    "collapsed": false,
    "pycharm": {
     "name": "#%%\n"
    }
   }
  },
  {
   "cell_type": "code",
   "execution_count": 9,
   "outputs": [],
   "source": [
    "class UnitFloat:\n",
    "    def __init__(self, genotype: str = None, n_features: int = 5,\n",
    "                 cost_function: Callable[[np.ndarray, list], list] = get_cost):\n",
    "        self.genotype = genotype\n",
    "        if genotype is None:\n",
    "            self.genotype = generate_genotype(n_features)\n",
    "\n",
    "        self.n_features = n_features\n",
    "        self.cost_function = cost_function\n",
    "        self._fitness = None\n",
    "\n",
    "    def fitness(self, tasks: list):\n",
    "        if self._fitness is None:\n",
    "            self._fitness = self.cost_function(self.phenotype, tasks)\n",
    "        return self._fitness\n",
    "\n",
    "    @property\n",
    "    def phenotype(self) -> np.ndarray:\n",
    "        return np.array([bin_to_float(self.genotype[i * 32:i * 32 + 32]) for i in range(self.n_features)], dtype=np.float32)\n",
    "\n",
    "    def cross(self, other, pivot: int = None):\n",
    "        if len(self.genotype) != len(self.genotype):\n",
    "            raise ValueError(\"Different genotype sizes\")\n",
    "        if pivot is None:\n",
    "            pivot = int(uniform(1, len(self.genotype) - 1))\n",
    "        return UnitFloat(self.genotype[:pivot] + other.genotype[pivot:]), UnitFloat(\n",
    "            other.genotype[:pivot] + self.genotype[pivot:])\n",
    "\n",
    "    def mutate(self, pivot: int = None):\n",
    "        if pivot is None:\n",
    "            pivot = int(uniform(0, self.n_features * 32))\n",
    "        self.genotype = inv_chr(self.genotype, pivot)\n",
    "        return self\n",
    "\n",
    "    def __str__(self):\n",
    "        return str(self.phenotype)\n",
    "\n",
    "    def __repr__(self):\n",
    "        return str(self.phenotype)"
   ],
   "metadata": {
    "collapsed": false,
    "pycharm": {
     "name": "#%%\n"
    }
   }
  },
  {
   "cell_type": "code",
   "execution_count": 10,
   "outputs": [],
   "source": [
    "population = [UnitFloat() for _ in range(500)]\n",
    "x = np.genfromtxt('GA_task.csv', delimiter=\";\", dtype=int)\n",
    "tasks = [ManufacturingTask(x[:, i], x[:, i + 1]) for i in range(0, x.shape[1], 2)]"
   ],
   "metadata": {
    "collapsed": false,
    "pycharm": {
     "name": "#%%\n"
    }
   }
  },
  {
   "cell_type": "code",
   "execution_count": 10,
   "outputs": [],
   "source": [],
   "metadata": {
    "collapsed": false,
    "pycharm": {
     "name": "#%%\n"
    }
   }
  },
  {
   "cell_type": "code",
   "execution_count": 11,
   "outputs": [],
   "source": [
    "# start = time()\n",
    "# fitness1 = np.array([unit.fitness(tasks) for unit in population])\n",
    "# print(f'Time: { time() - start }')"
   ],
   "metadata": {
    "collapsed": false,
    "pycharm": {
     "name": "#%%\n"
    }
   }
  },
  {
   "cell_type": "code",
   "execution_count": null,
   "outputs": [],
   "source": [
    "start = time()\n",
    "fitness2 = np.array(Parallel(n_jobs=-1)(delayed(unit.fitness)(tasks) for unit in population))\n",
    "print(f'Time : { time() - start }')"
   ],
   "metadata": {
    "collapsed": false,
    "pycharm": {
     "name": "#%%\n",
     "is_executing": true
    }
   }
  },
  {
   "cell_type": "code",
   "execution_count": 24,
   "outputs": [
    {
     "name": "stdout",
     "output_type": "stream",
     "text": [
      "[ True  True  True  True  True  True  True  True  True  True  True  True\n",
      "  True  True  True  True  True  True  True  True  True  True  True  True\n",
      "  True  True  True  True  True  True  True  True  True  True  True  True\n",
      "  True  True  True  True  True  True  True  True  True  True  True  True\n",
      "  True  True  True  True  True  True  True  True  True  True  True  True\n",
      "  True  True  True  True  True  True  True  True  True  True  True  True\n",
      "  True  True  True  True  True  True  True  True  True  True  True  True\n",
      "  True  True  True  True  True  True  True  True  True  True  True  True\n",
      "  True  True  True  True  True  True  True  True  True  True  True  True\n",
      "  True  True  True  True  True  True  True  True  True  True  True  True\n",
      "  True  True  True  True  True  True  True  True  True  True  True  True\n",
      "  True  True  True  True  True  True  True  True  True  True  True  True\n",
      "  True  True  True  True  True  True  True  True  True  True  True  True\n",
      "  True  True  True  True  True  True  True  True  True  True  True  True\n",
      "  True  True  True  True  True  True  True  True  True  True  True  True\n",
      "  True  True  True  True  True  True  True  True  True  True  True  True\n",
      "  True  True  True  True  True  True  True  True  True  True  True  True\n",
      "  True  True  True  True  True  True  True  True  True  True  True  True\n",
      "  True  True  True  True  True  True  True  True  True  True  True  True\n",
      "  True  True  True  True  True  True  True  True  True  True  True  True\n",
      "  True  True  True  True  True  True  True  True  True  True  True  True\n",
      "  True  True  True  True  True  True  True  True  True  True  True  True\n",
      "  True  True  True  True  True  True  True  True  True  True  True  True\n",
      "  True  True  True  True  True  True  True  True  True  True  True  True\n",
      "  True  True  True  True  True  True  True  True  True  True  True  True\n",
      "  True  True  True  True  True  True  True  True  True  True  True  True\n",
      "  True  True  True  True  True  True  True  True  True  True  True  True\n",
      "  True  True  True  True  True  True  True  True  True  True  True  True\n",
      "  True  True  True  True  True  True  True  True  True  True  True  True\n",
      "  True  True  True  True  True  True  True  True  True  True  True  True\n",
      "  True  True  True  True  True  True  True  True  True  True  True  True\n",
      "  True  True  True  True  True  True  True  True  True  True  True  True\n",
      "  True  True  True  True  True  True  True  True  True  True  True  True\n",
      "  True  True  True  True  True  True  True  True  True  True  True  True\n",
      "  True  True  True  True  True  True  True  True  True  True  True  True\n",
      "  True  True  True  True  True  True  True  True  True  True  True  True\n",
      "  True  True  True  True  True  True  True  True  True  True  True  True\n",
      "  True  True  True  True  True  True  True  True  True  True  True  True\n",
      "  True  True  True  True  True  True  True  True  True  True  True  True\n",
      "  True  True  True  True  True  True  True  True  True  True  True  True\n",
      "  True  True  True  True  True  True  True  True  True  True  True  True\n",
      "  True  True  True  True  True  True  True  True]\n"
     ]
    }
   ],
   "source": [
    "print(fitness1 == fitness2)"
   ],
   "metadata": {
    "collapsed": false,
    "pycharm": {
     "name": "#%%\n"
    }
   }
  },
  {
   "cell_type": "code",
   "execution_count": 11,
   "outputs": [],
   "source": [
    "def main():\n",
    "    x = np.genfromtxt('GA_task.csv', delimiter=\";\", dtype=int)\n",
    "    tasks = [ManufacturingTask(x[:, i], x[:, i + 1]) for i in range(0, x.shape[1], 2)]\n",
    "\n",
    "    population = [UnitFloat() for _ in range(population_size)]\n",
    "    last = time()\n",
    "    for epoch in range(epochs):\n",
    "        fitness = np.array(Parallel(n_jobs=-1)(delayed(unit.fitness)(tasks) for unit in population))\n",
    "        fitness_sum = np.sum(fitness)\n",
    "        temp_probs = np.array([fitness_sum / f for f in fitness], dtype=np.float64)\n",
    "        temp_sum = np.sum(temp_probs)\n",
    "        fitness_probs = temp_probs / temp_sum\n",
    "\n",
    "        new_population = []\n",
    "        if epoch % (epochs // 10) == 0:\n",
    "            print(f'Epoch: {epoch}; Time since last update: {time() - last}s')\n",
    "            print(f'Avg Fitness: {fitness_sum / population_size}')\n",
    "            print(f'Best Fitness: {min(fitness)}')\n",
    "            last = time()\n",
    "            # print(population)\n",
    "\n",
    "        for _ in range(population_size // 2):\n",
    "            choices = np.random.choice(population, 2, p=fitness_probs, replace=False)\n",
    "            parent1, parent2 = choices[0], choices[1]\n",
    "\n",
    "            if random() < crossover_probability:\n",
    "                child1, child2 = parent1.cross(parent2)\n",
    "            else:\n",
    "                child1, child2 = parent1, parent2\n",
    "\n",
    "            if random() < mutation_probability:\n",
    "                child1.mutate()\n",
    "            if random() < mutation_probability:\n",
    "                child2.mutate()\n",
    "            new_population.append(child1)\n",
    "            new_population.append(child2)\n",
    "\n",
    "        population = new_population\n",
    "        population = population[:population_size]\n",
    "\n",
    "    # print(population)\n",
    "    # population.sort(key=lambda x: x.fitness(tasks))\n",
    "    fitness = np.array([unit.fitness(tasks) for unit in population])\n",
    "    best = np.argmin(fitness)\n",
    "    print(f'Epoch: {epoch}; Time since last update: {time() - last}s')\n",
    "    print(f'Best Fitness: {min(fitness)}')\n",
    "    print(population[best].fitness(tasks))\n",
    "    print(population[best].genotype)\n",
    "    print(population[best].phenotype)\n",
    "    final = create_manufacturing_queues(tasks, population[best].phenotype)\n",
    "    with open('GA_task_result.csv', 'w') as f:\n",
    "        for q in final:\n",
    "            for task in q:\n",
    "                f.write(str(task) + ';')\n",
    "            f.write('\\n')"
   ],
   "metadata": {
    "collapsed": false,
    "pycharm": {
     "name": "#%%\n"
    }
   }
  },
  {
   "cell_type": "code",
   "execution_count": null,
   "outputs": [],
   "source": [],
   "metadata": {
    "collapsed": false,
    "pycharm": {
     "name": "#%%\n"
    }
   }
  }
 ],
 "metadata": {
  "kernelspec": {
   "display_name": "Python 3",
   "language": "python",
   "name": "python3"
  },
  "language_info": {
   "codemirror_mode": {
    "name": "ipython",
    "version": 2
   },
   "file_extension": ".py",
   "mimetype": "text/x-python",
   "name": "python",
   "nbconvert_exporter": "python",
   "pygments_lexer": "ipython2",
   "version": "2.7.6"
  }
 },
 "nbformat": 4,
 "nbformat_minor": 0
}