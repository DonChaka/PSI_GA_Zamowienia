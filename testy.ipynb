{
 "cells": [
  {
   "cell_type": "code",
   "execution_count": 1,
   "outputs": [],
   "source": [
    "import numpy as np\n",
    "import struct"
   ],
   "metadata": {
    "collapsed": false,
    "pycharm": {
     "name": "#%%\n"
    }
   }
  },
  {
   "cell_type": "code",
   "execution_count": 2,
   "outputs": [],
   "source": [
    "def float_to_bin(num):\n",
    "    return bin(struct.unpack('!I', struct.pack('!f', num))[0])[2:].zfill(32)\n",
    "\n",
    "\n",
    "def bin_to_float(binary):\n",
    "    return struct.unpack('!f', struct.pack('!I', int(binary, 2)))[0]\n"
   ],
   "metadata": {
    "collapsed": false,
    "pycharm": {
     "name": "#%%\n"
    }
   }
  },
  {
   "cell_type": "code",
   "execution_count": 3,
   "outputs": [],
   "source": [
    "class ExtendableList(list):\n",
    "    def __setitem__(self, key, value):\n",
    "        if isinstance(key, slice):\n",
    "            if self.__len__() < key.start + 1:\n",
    "                self.extend([None] * (key.start + 1 - self.__len__()))\n",
    "            if self.__len__() < key.stop + 1:\n",
    "                self.extend([None] * (key.stop - self.__len__()))\n",
    "        else:\n",
    "            while self.__len__() < key + 1:\n",
    "                self.extend([None] * (key + 1 - self.__len__()))\n",
    "        super().__setitem__(key, value)\n"
   ],
   "metadata": {
    "collapsed": false,
    "pycharm": {
     "name": "#%%\n"
    }
   }
  },
  {
   "cell_type": "code",
   "execution_count": 9,
   "metadata": {
    "collapsed": true
   },
   "outputs": [],
   "source": [
    "class Task:\n",
    "    id = 1\n",
    "\n",
    "    def __init__(self, resource_list: np.ndarray, costs_list: np.ndarray):\n",
    "        if len(resource_list) != len(costs_list):\n",
    "            raise Exception('Resources list and costs list must be the same length')\n",
    "        self.resource_list = resource_list\n",
    "        self.costs_list = costs_list\n",
    "        self.total_cost = np.sum(costs_list)\n",
    "        self.total_steps = len(self.costs_list)\n",
    "        self.is_finished = False\n",
    "\n",
    "        self.step = 0\n",
    "        self.last_step_finished = 0\n",
    "        self.next_idle_time = 0\n",
    "        self.id = Task.id\n",
    "        Task.id += 1\n",
    "\n",
    "    def validate_args(self, res: int, t: int):\n",
    "        if t <= self.next_idle_time:\n",
    "            raise Exception(\n",
    "                f'Last step is not done yet. Passed time is {t}, and current process ends at time={self.next_idle_time}')\n",
    "\n",
    "        if res != self.resource_list[self.step]:\n",
    "            raise Exception(\n",
    "                f'Wrong type of resource. Passed resource is {res} and next needed resource is {self.resource_list[self.step]}')\n",
    "\n",
    "    def get_next_resource(self, res: int, t: int):\n",
    "        self.validate_args(res, t)\n",
    "\n",
    "        return self.resource_list[self.step]\n",
    "\n",
    "    def get_value_state(self, res: int, t: int):\n",
    "        self.validate_args(res, t)\n",
    "\n",
    "        return self.total_cost, self.total_steps - self.step, self.costs_list[self.step], t - self.next_idle_time\n",
    "\n",
    "    def execute_next_step(self, res: int, t: int):\n",
    "        self.validate_args(res, t)\n",
    "\n",
    "        self.next_idle_time = t + self.costs_list[self.step] + 1\n",
    "        self.step += 1\n",
    "        if self.step >= self.total_steps:\n",
    "            self.is_finished = True\n",
    "        return self.costs_list[self.step]\n",
    "\n",
    "    def is_ready(self, res: int, t: int) -> bool:\n",
    "        return self.next_idle_time <= t and self.resource_list[self.step] == res\n"
   ]
  },
  {
   "cell_type": "code",
   "execution_count": 5,
   "outputs": [],
   "source": [
    "def create_maufacturing_queues(tasks: list, alpha: float, beta: float, gamma: float, delta: float):\n",
    "    if len(tasks) == 0:\n",
    "        raise Exception('There are no tasks')\n",
    "\n",
    "    resources_queue_list = [ExtendableList() for _ in range(np.unique(np.concatenate([task.resource_list for task in tasks]))[-1]+1)]\n",
    "    tasks_left = [task for task in tasks if not task.is_finished]\n",
    "    while len(tasks_left):\n",
    "        pass\n",
    "\n",
    "    return resources_queue_list\n"
   ],
   "metadata": {
    "collapsed": false,
    "pycharm": {
     "name": "#%%\n"
    }
   }
  },
  {
   "cell_type": "code",
   "execution_count": 5,
   "outputs": [],
   "source": [
    "x = np.genfromtxt('GA_task.csv', delimiter=\";\", dtype=int)"
   ],
   "metadata": {
    "collapsed": false,
    "pycharm": {
     "name": "#%%\n"
    }
   }
  },
  {
   "cell_type": "code",
   "execution_count": 10,
   "outputs": [],
   "source": [
    "tasks  = [Task(x[:, i], x[:, i+1]) for i in range(0, x.shape[1], 2)]"
   ],
   "metadata": {
    "collapsed": false,
    "pycharm": {
     "name": "#%%\n"
    }
   }
  },
  {
   "cell_type": "code",
   "execution_count": 38,
   "outputs": [],
   "source": [
    "test = ExtendableList()\n",
    "start = 0\n",
    "duration = 2\n",
    "stop = start + duration\n",
    "test[start:stop] = [2 for _ in range(start, stop)]"
   ],
   "metadata": {
    "collapsed": false,
    "pycharm": {
     "name": "#%%\n"
    }
   }
  },
  {
   "cell_type": "code",
   "execution_count": 39,
   "outputs": [
    {
     "data": {
      "text/plain": "[2, 2]"
     },
     "execution_count": 39,
     "metadata": {},
     "output_type": "execute_result"
    }
   ],
   "source": [
    "test"
   ],
   "metadata": {
    "collapsed": false,
    "pycharm": {
     "name": "#%%\n"
    }
   }
  },
  {
   "cell_type": "code",
   "execution_count": 35,
   "outputs": [
    {
     "name": "stdout",
     "output_type": "stream",
     "text": [
      "[828427.9375, -8.99690055847168, -8.155193851642485e+19, 5.819401849294081e-08]\n"
     ]
    }
   ],
   "source": [
    "from typing import Callable\n",
    "import random\n",
    "\n",
    "\n",
    "def generate_genotype(n_features: int) -> str:\n",
    "    return ''.join([random.choice(['0', '1']) for _ in range(n_features * 32)])\n",
    "\n",
    "\n",
    "class UnitFloat:\n",
    "    def __init__(self, genotype: str = None, n_features: int = 4, cost_function: Callable[[list], int] = None):\n",
    "        self.genotype = genotype\n",
    "        if genotype is None:\n",
    "            self.genotype = generate_genotype(n_features)\n",
    "\n",
    "        self.n_features = n_features\n",
    "        self.cost_function = cost_function\n",
    "\n",
    "    @property\n",
    "    def fitness(self):\n",
    "        return self.cost_function(self.resources_queue_list)\n",
    "\n",
    "    @property\n",
    "    def phenotype(self):\n",
    "        return [bin_to_float(self.genotype[i*32:i*32+32]) for i in range(self.n_features)]\n",
    "\n",
    "test = UnitFloat()\n",
    "print(test.phenotype)"
   ],
   "metadata": {
    "collapsed": false,
    "pycharm": {
     "name": "#%%\n"
    }
   }
  },
  {
   "cell_type": "code",
   "execution_count": 35,
   "outputs": [],
   "source": [],
   "metadata": {
    "collapsed": false,
    "pycharm": {
     "name": "#%%\n"
    }
   }
  },
  {
   "cell_type": "code",
   "execution_count": null,
   "outputs": [],
   "source": [],
   "metadata": {
    "collapsed": false,
    "pycharm": {
     "name": "#%%\n"
    }
   }
  }
 ],
 "metadata": {
  "kernelspec": {
   "display_name": "Python 3",
   "language": "python",
   "name": "python3"
  },
  "language_info": {
   "codemirror_mode": {
    "name": "ipython",
    "version": 2
   },
   "file_extension": ".py",
   "mimetype": "text/x-python",
   "name": "python",
   "nbconvert_exporter": "python",
   "pygments_lexer": "ipython2",
   "version": "2.7.6"
  }
 },
 "nbformat": 4,
 "nbformat_minor": 0
}